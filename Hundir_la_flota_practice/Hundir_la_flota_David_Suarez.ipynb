{
 "cells": [
  {
   "cell_type": "code",
   "execution_count": 13,
   "source": [
    "import numpy as np\r\n",
    "from random import randint"
   ],
   "outputs": [],
   "metadata": {}
  },
  {
   "cell_type": "code",
   "execution_count": 14,
   "source": [
    "from mensaje import mensaje_de_bienvenida"
   ],
   "outputs": [],
   "metadata": {}
  },
  {
   "cell_type": "code",
   "execution_count": 15,
   "source": [
    "mensaje_de_bienvenida()"
   ],
   "outputs": [
    {
     "output_type": "stream",
     "name": "stdout",
     "text": [
      "Bienvenido a hundir la flota\n",
      "Hay varios barcos escondidos en este tablero, trata de hundirlos\n"
     ]
    }
   ],
   "metadata": {}
  },
  {
   "cell_type": "code",
   "execution_count": 16,
   "source": [
    "#Barcos máquina con posiciones definidas:\r\n",
    "corbeta1 = [(0,1)]\r\n",
    "corbeta2 = [(1,0)]\r\n",
    "corbeta3 = [(2,1)]\r\n",
    "corbeta4 = [(0,4)]\r\n",
    "fragata1 = [(4,3),(4,5)]\r\n",
    "fragata2 = [(6,4),(6,6)]\r\n",
    "fragata3 = [(8,5),(8,7)]\r\n",
    "crucero1 = [(3,3),(3,4),(3,5)]\r\n",
    "crucero2 = [(5,7),(5,8),(5,9)]\r\n",
    "portaaviones = [(10,3),(10,4),(10,5),(10,6)]\r\n",
    "barcos_dic_pos = {\"corbeta1\" : corbeta1, \"corbeta2\" : corbeta2, \"corbeta3\" : corbeta3,\r\n",
    "                    \"corbeta4\" : corbeta4, \"fragata1\" : fragata1, \"fragata2\" : fragata2, \r\n",
    "                    \"fragata3\" : fragata3, \"crucero1\": crucero1, \"crucero2\": crucero2,\r\n",
    "                    \"portaaviones\": portaaviones}"
   ],
   "outputs": [],
   "metadata": {}
  },
  {
   "cell_type": "code",
   "execution_count": 17,
   "source": [
    "#Tablero máquina con barcos posicionados:\r\n",
    "tablero_maquina = np.full(fill_value = ' ', shape = (10, 10))\r\n",
    "#corbeta1\r\n",
    "tablero_maquina[0][1]=\"B\"\r\n",
    "#corbeta2\r\n",
    "tablero_maquina[1][0]=\"B\"\r\n",
    "#corbeta3\r\n",
    "tablero_maquina[2][1]=\"B\"\r\n",
    "#corbeta4\r\n",
    "tablero_maquina[0][4]=\"B\"\r\n",
    "#fragata1\r\n",
    "tablero_maquina[4][3:5]=\"B\"\r\n",
    "#fragata2\r\n",
    "tablero_maquina[6][4:6]=\"B\"\r\n",
    "#fragata3\r\n",
    "tablero_maquina[8][5:7]=\"B\"\r\n",
    "#crucero1\r\n",
    "tablero_maquina[3][3:6]=\"B\"\r\n",
    "#crucero2\r\n",
    "tablero_maquina[5][7:10]=\"B\"\r\n",
    "#portaaviones\r\n",
    "tablero_maquina[9][3:7]=\"B\"\r\n",
    "print(tablero_maquina)\r\n"
   ],
   "outputs": [
    {
     "output_type": "stream",
     "name": "stdout",
     "text": [
      "[[' ' 'B' ' ' ' ' 'B' ' ' ' ' ' ' ' ' ' ']\n",
      " ['B' ' ' ' ' ' ' ' ' ' ' ' ' ' ' ' ' ' ']\n",
      " [' ' 'B' ' ' ' ' ' ' ' ' ' ' ' ' ' ' ' ']\n",
      " [' ' ' ' ' ' 'B' 'B' 'B' ' ' ' ' ' ' ' ']\n",
      " [' ' ' ' ' ' 'B' 'B' ' ' ' ' ' ' ' ' ' ']\n",
      " [' ' ' ' ' ' ' ' ' ' ' ' ' ' 'B' 'B' 'B']\n",
      " [' ' ' ' ' ' ' ' 'B' 'B' ' ' ' ' ' ' ' ']\n",
      " [' ' ' ' ' ' ' ' ' ' ' ' ' ' ' ' ' ' ' ']\n",
      " [' ' ' ' ' ' ' ' ' ' 'B' 'B' ' ' ' ' ' ']\n",
      " [' ' ' ' ' ' 'B' 'B' 'B' 'B' ' ' ' ' ' ']]\n"
     ]
    }
   ],
   "metadata": {}
  },
  {
   "cell_type": "code",
   "execution_count": 18,
   "source": [
    "#Barcos jugador con posiciones definidas:\r\n",
    "corbeta1 = [(0,3)]\r\n",
    "corbeta2 = [(2,0)]\r\n",
    "corbeta3 = [(4,3)]\r\n",
    "corbeta4 = [(0,6)]\r\n",
    "fragata1 = [(3,4),(3,6)]\r\n",
    "fragata2 = [(6,5),(6,8)]\r\n",
    "fragata3 = [(9,6),(9,8)]\r\n",
    "crucero1 = [(1,3),(1,4),(1,5)]\r\n",
    "crucero2 = [(7,7),(7,8),(7,9)]\r\n",
    "portaaviones = [(10,1),(10,2),(10,3),(10,4)]\r\n",
    "barcos_dic_pos = {\"corbeta1\" : corbeta1, \"corbeta2\" : corbeta2, \"corbeta3\" : corbeta3,\r\n",
    "                    \"corbeta4\" : corbeta4, \"fragata1\" : fragata1, \"fragata2\" : fragata2, \r\n",
    "                    \"fragata3\" : fragata3, \"crucero1\": crucero1, \"crucero2\": crucero2,\r\n",
    "                    \"portaaviones\": portaaviones}"
   ],
   "outputs": [],
   "metadata": {}
  },
  {
   "cell_type": "code",
   "execution_count": 19,
   "source": [
    "#Tablero jugador con barcos posicionados:\r\n",
    "tablero_jugador = np.full(fill_value = ' ', shape = (10, 10))\r\n",
    "#corbeta1\r\n",
    "tablero_jugador[0][3]=\"V\"\r\n",
    "#corbeta2\r\n",
    "tablero_jugador[2][0]=\"V\"\r\n",
    "#corbeta3\r\n",
    "tablero_jugador[4][3]=\"V\"\r\n",
    "#corbeta4\r\n",
    "tablero_jugador[0][6]=\"V\"\r\n",
    "#fragata1\r\n",
    "tablero_jugador[3][4:6]=\"V\"\r\n",
    "#fragata2\r\n",
    "tablero_jugador[6][5:8]=\"V\"\r\n",
    "#fragata3\r\n",
    "tablero_jugador[9][6:8]=\"V\"\r\n",
    "#crucero1\r\n",
    "tablero_jugador[1][3:6]=\"V\"\r\n",
    "#crucero2\r\n",
    "tablero_jugador[7][7:9]=\"V\"\r\n",
    "#portaaviones\r\n",
    "tablero_jugador[9][1:5]=\"V\"\r\n",
    "print(tablero_jugador)"
   ],
   "outputs": [
    {
     "output_type": "stream",
     "name": "stdout",
     "text": [
      "[[' ' ' ' ' ' 'V' ' ' ' ' 'V' ' ' ' ' ' ']\n",
      " [' ' ' ' ' ' 'V' 'V' 'V' ' ' ' ' ' ' ' ']\n",
      " ['V' ' ' ' ' ' ' ' ' ' ' ' ' ' ' ' ' ' ']\n",
      " [' ' ' ' ' ' ' ' 'V' 'V' ' ' ' ' ' ' ' ']\n",
      " [' ' ' ' ' ' 'V' ' ' ' ' ' ' ' ' ' ' ' ']\n",
      " [' ' ' ' ' ' ' ' ' ' ' ' ' ' ' ' ' ' ' ']\n",
      " [' ' ' ' ' ' ' ' ' ' 'V' 'V' 'V' ' ' ' ']\n",
      " [' ' ' ' ' ' ' ' ' ' ' ' ' ' 'V' 'V' ' ']\n",
      " [' ' ' ' ' ' ' ' ' ' ' ' ' ' ' ' ' ' ' ']\n",
      " [' ' 'V' 'V' 'V' 'V' ' ' 'V' 'V' ' ' ' ']]\n"
     ]
    }
   ],
   "metadata": {}
  },
  {
   "cell_type": "code",
   "execution_count": 20,
   "source": [
    "def disparo():\r\n",
    "    x = int(input(\"Introduce una coordenada: \"))\r\n",
    "    y = int(input(\"Introduce una segunda coordenada: \"))\r\n",
    "    if x>10 or y>10:\r\n",
    "        print(\"Coordenada no válida, introduce coordenada del 0 al 10\")\r\n",
    "    if tablero_maquina[x][y]== \"B\":\r\n",
    "        tablero_maquina[x][y] = \"X\"\r\n",
    "        print(\"acierto\")\r\n",
    "        print(tablero_maquina) \r\n",
    "    else:\r\n",
    "        tablero_maquina[x][y] = \"A\"\r\n",
    "        print(\"fallaste\")\r\n",
    "        print(tablero_maquina)\r\n",
    "\r\n",
    "\r\n",
    "def fuego():\r\n",
    "    x = np.random.randint(0,10)\r\n",
    "    y = np.random.randint(0,10)\r\n",
    "    if x>10 or y>10:\r\n",
    "        print(\"Coordenada no válida, introduce coordenada del 0 al 10\")\r\n",
    "    if tablero_jugador[x][y]== \"V\":\r\n",
    "        tablero_jugador[x][y] = \"X\"\r\n",
    "        print(\"acierto\")\r\n",
    "        print(tablero_jugador) \r\n",
    "    else:\r\n",
    "        tablero_jugador[x][y] = \"A\"\r\n",
    "        print(\"fallaste\")\r\n",
    "        print(tablero_jugador) "
   ],
   "outputs": [],
   "metadata": {}
  },
  {
   "cell_type": "code",
   "execution_count": 21,
   "source": [
    "def jugar_partida(intentos=20):\r\n",
    "    print(\"empieza la partida\")\r\n",
    "    while intentos:\r\n",
    "        print(f\"Intento: {intentos}\")\r\n",
    "        disparo()\r\n",
    "        fuego()\r\n",
    "        intentos = intentos - 1\r\n",
    "    print(\"fin de la partida\")"
   ],
   "outputs": [],
   "metadata": {}
  },
  {
   "cell_type": "code",
   "execution_count": 22,
   "source": [
    "jugar_partida()"
   ],
   "outputs": [
    {
     "output_type": "stream",
     "name": "stdout",
     "text": [
      "empieza la partida\n",
      "Intento: 20\n"
     ]
    },
    {
     "output_type": "error",
     "ename": "ValueError",
     "evalue": "invalid literal for int() with base 10: ''",
     "traceback": [
      "\u001b[1;31m---------------------------------------------------------------------------\u001b[0m",
      "\u001b[1;31mValueError\u001b[0m                                Traceback (most recent call last)",
      "\u001b[1;32m~\\AppData\\Local\\Temp/ipykernel_4332/301506432.py\u001b[0m in \u001b[0;36m<module>\u001b[1;34m\u001b[0m\n\u001b[1;32m----> 1\u001b[1;33m \u001b[0mjugar_partida\u001b[0m\u001b[1;33m(\u001b[0m\u001b[1;33m)\u001b[0m\u001b[1;33m\u001b[0m\u001b[1;33m\u001b[0m\u001b[0m\n\u001b[0m",
      "\u001b[1;32m~\\AppData\\Local\\Temp/ipykernel_4332/152999639.py\u001b[0m in \u001b[0;36mjugar_partida\u001b[1;34m(intentos)\u001b[0m\n\u001b[0;32m      3\u001b[0m     \u001b[1;32mwhile\u001b[0m \u001b[0mintentos\u001b[0m\u001b[1;33m:\u001b[0m\u001b[1;33m\u001b[0m\u001b[1;33m\u001b[0m\u001b[0m\n\u001b[0;32m      4\u001b[0m         \u001b[0mprint\u001b[0m\u001b[1;33m(\u001b[0m\u001b[1;34mf\"Intento: {intentos}\"\u001b[0m\u001b[1;33m)\u001b[0m\u001b[1;33m\u001b[0m\u001b[1;33m\u001b[0m\u001b[0m\n\u001b[1;32m----> 5\u001b[1;33m         \u001b[0mdisparo\u001b[0m\u001b[1;33m(\u001b[0m\u001b[1;33m)\u001b[0m\u001b[1;33m\u001b[0m\u001b[1;33m\u001b[0m\u001b[0m\n\u001b[0m\u001b[0;32m      6\u001b[0m         \u001b[0mfuego\u001b[0m\u001b[1;33m(\u001b[0m\u001b[1;33m)\u001b[0m\u001b[1;33m\u001b[0m\u001b[1;33m\u001b[0m\u001b[0m\n\u001b[0;32m      7\u001b[0m         \u001b[0mintentos\u001b[0m \u001b[1;33m=\u001b[0m \u001b[0mintentos\u001b[0m \u001b[1;33m-\u001b[0m \u001b[1;36m1\u001b[0m\u001b[1;33m\u001b[0m\u001b[1;33m\u001b[0m\u001b[0m\n",
      "\u001b[1;32m~\\AppData\\Local\\Temp/ipykernel_4332/634796114.py\u001b[0m in \u001b[0;36mdisparo\u001b[1;34m()\u001b[0m\n\u001b[0;32m      1\u001b[0m \u001b[1;32mdef\u001b[0m \u001b[0mdisparo\u001b[0m\u001b[1;33m(\u001b[0m\u001b[1;33m)\u001b[0m\u001b[1;33m:\u001b[0m\u001b[1;33m\u001b[0m\u001b[1;33m\u001b[0m\u001b[0m\n\u001b[1;32m----> 2\u001b[1;33m     \u001b[0mx\u001b[0m \u001b[1;33m=\u001b[0m \u001b[0mint\u001b[0m\u001b[1;33m(\u001b[0m\u001b[0minput\u001b[0m\u001b[1;33m(\u001b[0m\u001b[1;34m\"Introduce una coordenada: \"\u001b[0m\u001b[1;33m)\u001b[0m\u001b[1;33m)\u001b[0m\u001b[1;33m\u001b[0m\u001b[1;33m\u001b[0m\u001b[0m\n\u001b[0m\u001b[0;32m      3\u001b[0m     \u001b[0my\u001b[0m \u001b[1;33m=\u001b[0m \u001b[0mint\u001b[0m\u001b[1;33m(\u001b[0m\u001b[0minput\u001b[0m\u001b[1;33m(\u001b[0m\u001b[1;34m\"Introduce una segunda coordenada: \"\u001b[0m\u001b[1;33m)\u001b[0m\u001b[1;33m)\u001b[0m\u001b[1;33m\u001b[0m\u001b[1;33m\u001b[0m\u001b[0m\n\u001b[0;32m      4\u001b[0m     \u001b[1;32mif\u001b[0m \u001b[0mx\u001b[0m\u001b[1;33m>\u001b[0m\u001b[1;36m10\u001b[0m \u001b[1;32mor\u001b[0m \u001b[0my\u001b[0m\u001b[1;33m>\u001b[0m\u001b[1;36m10\u001b[0m\u001b[1;33m:\u001b[0m\u001b[1;33m\u001b[0m\u001b[1;33m\u001b[0m\u001b[0m\n\u001b[0;32m      5\u001b[0m         \u001b[0mprint\u001b[0m\u001b[1;33m(\u001b[0m\u001b[1;34m\"Coordenada no válida, introduce coordenada del 0 al 10\"\u001b[0m\u001b[1;33m)\u001b[0m\u001b[1;33m\u001b[0m\u001b[1;33m\u001b[0m\u001b[0m\n",
      "\u001b[1;31mValueError\u001b[0m: invalid literal for int() with base 10: ''"
     ]
    }
   ],
   "metadata": {}
  }
 ],
 "metadata": {
  "orig_nbformat": 4,
  "language_info": {
   "name": "python",
   "version": "3.7.4",
   "mimetype": "text/x-python",
   "codemirror_mode": {
    "name": "ipython",
    "version": 3
   },
   "pygments_lexer": "ipython3",
   "nbconvert_exporter": "python",
   "file_extension": ".py"
  },
  "kernelspec": {
   "name": "python3",
   "display_name": "Python 3.7.4 64-bit"
  },
  "interpreter": {
   "hash": "465b67457ed07dc5ab4e50be9ce3de2171c2c2afe56ec4baf7244b10fe49a693"
  }
 },
 "nbformat": 4,
 "nbformat_minor": 2
}